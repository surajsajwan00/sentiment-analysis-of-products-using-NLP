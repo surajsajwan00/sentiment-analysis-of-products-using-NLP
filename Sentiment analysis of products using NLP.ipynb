{
 "cells": [
  {
   "cell_type": "code",
   "execution_count": 1,
   "id": "12095703",
   "metadata": {},
   "outputs": [],
   "source": [
    "import pandas as pd\n",
    "import numpy as np\n",
    "import io\n",
    "import matplotlib.pyplot as plt\n",
    "import seaborn as sns\n",
    "%matplotlib inline\n",
    "%config InlineBackend.figure_format = 'retina'\n",
    "import warnings\n",
    "warnings.filterwarnings('ignore')\n",
    "from ipywidgets import *\n",
    "from IPython.display import display\n",
    "from ipywidgets import FloatProgress  \n",
    "import time\n",
    "import ipywidgets as widgets\n",
    "widgets.IntSlider()\n",
    "from sklearn.model_selection import train_test_split\n",
    "from sklearn.metrics import roc_curve, auc\n",
    "from sklearn.feature_extraction.text import CountVectorizer,TfidfVectorizer\n",
    "from sklearn.metrics import classification_report,accuracy_score,confusion_matrix\n",
    "from sklearn.ensemble import RandomForestClassifier\n",
    "from sklearn.linear_model import LogisticRegression"
   ]
  },
  {
   "cell_type": "code",
   "execution_count": 2,
   "id": "e4f82ad5",
   "metadata": {},
   "outputs": [],
   "source": [
    "####data pre-processing\n",
    "\n",
    "data = pd.read_csv(\"Mobile_Amazon.csv\")\n",
    "data = data.dropna(axis = 0)\n",
    "data = data[[\"Reviews\",\"Rating\"]]\n",
    "data_pos = data[data[\"Rating\"].isin([4,5])]\n",
    "data_neg = data[data[\"Rating\"].isin([1,2])]\n",
    "data_filtered = pd.concat([data_pos[:20000],data_neg[:20000]])\n",
    "data_filtered[\"r\"] = 1\n",
    "data_filtered[\"r\"][data_filtered[\"Rating\"].isin([1,2])] = 0"
   ]
  },
  {
   "cell_type": "code",
   "execution_count": 3,
   "id": "55049c5d",
   "metadata": {},
   "outputs": [],
   "source": [
    "####Trainning and Test Data \n",
    "\n",
    "X_train_data,x_test_data,Y_train_data,y_test_data=train_test_split(data_filtered[\"Reviews\"],data_filtered[\"r\"],test_size=0.2)"
   ]
  },
  {
   "cell_type": "code",
   "execution_count": 4,
   "id": "03390f85",
   "metadata": {},
   "outputs": [],
   "source": [
    "####Using Count Vectorization(Transforms text into a sparse matrix of n-gram counts)\n",
    "\n",
    "count_vector=CountVectorizer(stop_words=\"english\")\n",
    "count_vector.fit(X_train_data)\n",
    "X_train_data_new=count_vector.transform(X_train_data)\n",
    "x_test_data_new=count_vector.transform(x_test_data)"
   ]
  },
  {
   "cell_type": "code",
   "execution_count": 5,
   "id": "1801c66b",
   "metadata": {},
   "outputs": [],
   "source": [
    "####Widgets In-Use\n",
    "\n",
    "start_button=Button(description=\"Start System\",button_style='danger') \n",
    "drop_down_choice=widgets.Dropdown(options={'Initiate _model':1,'Predict rating for new review':2,'Analyzing_model':3},value=2)\n",
    "choose_button=Button(description=\"Click\",button_style='danger')    \n",
    "drop_down=widgets.Dropdown(options={'Logistic Regression': 1},value=1)\n",
    "rad_button=widgets.RadioButtons(options=['Accuracy', 'ROC Curve', 'Precision,Recall and F-Measure',],value='Accuracy',disabled=False)\n",
    "button= widgets.Button(description=\"Submit\",button_style='info')\n",
    "Inp_text = widgets.Text(description=\"\", width=20000)   \n",
    "button_rating= widgets.Button(description=\"Find Rating\",button_style='info')\n",
    "fp = FloatProgress(min=0,max=100,description=\"Calculating\")  \n",
    "Out_text=widgets.Text()"
   ]
  },
  {
   "cell_type": "code",
   "execution_count": 6,
   "id": "2350d8a3",
   "metadata": {},
   "outputs": [],
   "source": [
    "####Logistic Regression \n",
    "\n",
    "prediction = dict()\n",
    "def log_reg():\n",
    "    print(\"\\n\\nLogistic Regression Classifier\")\n",
    "    print(\"Please be patient. This may take some time.\")\n",
    "    lr_model = LogisticRegression()\n",
    "    \n",
    "    ##Trainning Model\n",
    "    lr_model.fit(X_train_data_new,Y_train_data)\n",
    "    \n",
    "    ##Test Model\n",
    "    prediction['LogisticRegression'] = lr_model.predict(x_test_data_new)\n",
    "    \n",
    "    ##Calculating Model Accuracy\n",
    "    if rad_button.value=='Accuracy':\n",
    "        print(\"Accuracy = \"+str(accuracy_score(y_test_data,prediction['LogisticRegression'])))\n",
    "        \n",
    "    ##Generating ROC Curve     \n",
    "    if rad_button.value=='ROC Curve':\n",
    "        false_positive, true_positive,_= roc_curve(y_test_data,prediction['LogisticRegression'])\n",
    "        plt.title('Receiver Operating Characteristic')\n",
    "        plt.plot(false_positive, true_positive)\n",
    "        plt.ylabel('True Positive Rate')\n",
    "        plt.xlabel('False Positive  Rate')\n",
    "        plt.show()\n",
    "        \n",
    "    ##Calculating Precision, Recall and F-Measure\n",
    "    if rad_button.value=='Precision,Recall and F-Measure':\n",
    "        print(classification_report(y_test_data, prediction['LogisticRegression'], target_names = [\"Good\", \"Bad\"]))"
   ]
  },
  {
   "cell_type": "code",
   "execution_count": 7,
   "id": "b8f3b401",
   "metadata": {},
   "outputs": [],
   "source": [
    "def analyzing_model():\n",
    "    print(\"\\n\\nPlease wait. This may take a few minutes\")\n",
    "    print(\"\\nAnalyzing Logistic Regression\")\n",
    "    lr_model = LogisticRegression()\n",
    "    lr_model.fit(X_train_data_new,Y_train_data)\n",
    "    prediction['LogisticRegression'] = lr_model.predict(x_test_data_new)\n",
    "    print(\"\\n\\nCalculating Accuracy of the model.\\n\\n\")\n",
    "    accuracy_result = {}\n",
    "    \n",
    "    #Model Accuracy Table\n",
    "    for k,v in prediction.items():\n",
    "        accuracy_result[k] = accuracy_score(y_test_data,v)\n",
    "    accuracy_table=pd.DataFrame(list(accuracy_result.items()), columns=[\"Model\",\"Accuracy\"])\n",
    "    print(accuracy_table)\n",
    "\n",
    "    #Bar chart for displaying accuracies of models\n",
    "    plt.figure(figsize= (10,8))\n",
    "    sns.barplot(x = \"Model\", y = \"Accuracy\", data = accuracy_table)\n",
    "    plt.title(\"Model accuracy\")\n",
    "    plt.xticks(rotation = 90)"
   ]
  },
  {
   "cell_type": "code",
   "execution_count": 8,
   "id": "fdce765b",
   "metadata": {},
   "outputs": [],
   "source": [
    "####predict rating of the review on the Go\n",
    "\n",
    "def predict_rating():\n",
    "    print(\"Customer Review\")\n",
    "    \n",
    "    display(Inp_text)\n",
    "    \n",
    "    display(button_rating)\n",
    "    print (\"Rating\")\n",
    "   \n",
    "    display(Out_text)\n",
    "    def handle_submit(sender):\n",
    "        display(fp)\n",
    "        #Predicting Rating of the Input Review\n",
    "        ess_model = RandomForestClassifier()\n",
    "        ess_model.fit(X_train_data_new,Y_train_data)                             \n",
    "        review=Inp_text.value\n",
    "        new_test_transform = count_vector.transform([review])        \n",
    "\n",
    "        for i in range(100):  \n",
    "            fp.value += 1\n",
    "            time.sleep(0.1)\n",
    "        if ess_model.predict(new_test_transform):\n",
    "            Out_text.value=\"Good\"\n",
    "        else :\n",
    "            Out_text.value=\"Bad\"\n",
    "    Inp_text.on_submit(handle_submit)\n",
    "    button_rating.on_click(handle_submit)"
   ]
  },
  {
   "cell_type": "code",
   "execution_count": 9,
   "id": "03c74f89",
   "metadata": {},
   "outputs": [],
   "source": [
    "####System GUI Code       \n",
    "\n",
    "def initiate_model():\n",
    "    print(\"Classifier Model\")    \n",
    "    display(drop_down)\n",
    "    display(rad_button)\n",
    "    display(button)\n",
    "\n",
    "    def handle_submit(sender):\n",
    "        if drop_down.value==1:\n",
    "            log_reg()\n",
    "    button.on_click(handle_submit)"
   ]
  },
  {
   "cell_type": "code",
   "execution_count": 10,
   "id": "a2844940",
   "metadata": {},
   "outputs": [],
   "source": [
    "####Run-Off\n",
    "\n",
    "def actions():\n",
    "    \n",
    "    display(drop_down_choice)    \n",
    "    display(choose_button)\n",
    "    def handle_choice(sender):\n",
    "        if drop_down_choice.value==1:\n",
    "            initiate_model()\n",
    "        if drop_down_choice.value==2:\n",
    "            analyzing_model()\n",
    "        if drop_down_choice.value==3:\n",
    "            predict_rating()\n",
    "    choose_button.on_click(handle_choice)"
   ]
  },
  {
   "cell_type": "code",
   "execution_count": 11,
   "id": "0a69e373",
   "metadata": {},
   "outputs": [
    {
     "name": "stdout",
     "output_type": "stream",
     "text": [
      "Sentimenatl Analysis of Customer on different Products\n"
     ]
    },
    {
     "data": {
      "application/vnd.jupyter.widget-view+json": {
       "model_id": "f4e4c95ed5fe435c8688a584edf7ee3e",
       "version_major": 2,
       "version_minor": 0
      },
      "text/plain": [
       "Button(button_style='danger', description='Start System', style=ButtonStyle())"
      ]
     },
     "metadata": {},
     "output_type": "display_data"
    },
    {
     "data": {
      "application/vnd.jupyter.widget-view+json": {
       "model_id": "5a7d2c444bd94914bda446e78bac345a",
       "version_major": 2,
       "version_minor": 0
      },
      "text/plain": [
       "Dropdown(index=1, options={'Initiate _model': 1, 'Predict rating for new review': 2, 'Analyzing_model': 3}, va…"
      ]
     },
     "metadata": {},
     "output_type": "display_data"
    },
    {
     "data": {
      "application/vnd.jupyter.widget-view+json": {
       "model_id": "20026a708055482ca258dd5b639c076e",
       "version_major": 2,
       "version_minor": 0
      },
      "text/plain": [
       "Button(button_style='danger', description='Click', style=ButtonStyle())"
      ]
     },
     "metadata": {},
     "output_type": "display_data"
    }
   ],
   "source": [
    "print(\"Sentimenatl Analysis of Customer on different Products\")\n",
    "display(start_button)\n",
    "def loading(sender):\n",
    "    actions()\n",
    "start_button.on_click(loading)"
   ]
  },
  {
   "cell_type": "code",
   "execution_count": null,
   "id": "1893cd2d",
   "metadata": {},
   "outputs": [],
   "source": []
  }
 ],
 "metadata": {
  "kernelspec": {
   "display_name": "Python 3 (ipykernel)",
   "language": "python",
   "name": "python3"
  },
  "language_info": {
   "codemirror_mode": {
    "name": "ipython",
    "version": 3
   },
   "file_extension": ".py",
   "mimetype": "text/x-python",
   "name": "python",
   "nbconvert_exporter": "python",
   "pygments_lexer": "ipython3",
   "version": "3.10.4"
  },
  "vscode": {
   "interpreter": {
    "hash": "d11db22dd638d5361905c4c7479ebb9b8930bcbb4e2af554b3882238b7e6e7aa"
   }
  }
 },
 "nbformat": 4,
 "nbformat_minor": 5
}
